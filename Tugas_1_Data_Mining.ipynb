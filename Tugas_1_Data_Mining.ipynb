{
  "nbformat": 4,
  "nbformat_minor": 0,
  "metadata": {
    "colab": {
      "provenance": [],
      "authorship_tag": "ABX9TyOcw3e5DFgrJWOQf5Ev+ShO",
      "include_colab_link": true
    },
    "kernelspec": {
      "name": "python3",
      "display_name": "Python 3"
    },
    "language_info": {
      "name": "python"
    }
  },
  "cells": [
    {
      "cell_type": "markdown",
      "metadata": {
        "id": "view-in-github",
        "colab_type": "text"
      },
      "source": [
        "<a href=\"https://colab.research.google.com/github/raffithoriq/tugas-Data-Mining-/blob/main/Tugas_1_Data_Mining.ipynb\" target=\"_parent\"><img src=\"https://colab.research.google.com/assets/colab-badge.svg\" alt=\"Open In Colab\"/></a>"
      ]
    },
    {
      "cell_type": "markdown",
      "source": [
        "#**Amazon UK Grocery Fresh Picks**"
      ],
      "metadata": {
        "id": "XlsuWZLsPVl_"
      }
    },
    {
      "cell_type": "markdown",
      "source": [
        "##**Business Understanding**"
      ],
      "metadata": {
        "id": "pux7XPWDSEdQ"
      }
    },
    {
      "cell_type": "markdown",
      "source": [
        "**Business objective**\n",
        "\n",
        "\n",
        "\n",
        "*   Meningkatkan Retensi Pelanggan: Dengan menawarkan opsi berlangganan untuk produk-produk segar, Amazon UK Grocery bertujuan untuk meningkatkan loyalitas pelanggan dengan menciptakan kebiasaan belanja yang konsisten dan berkelanjutan.\n",
        "*   Meningkatkan Pendapatan yang Konsisten: Dengan memiliki pelanggan berlangganan, Amazon UK Grocery dapat memperkirakan pendapatan yang lebih konsisten dari program “Fresh Picks”, karena pelanggan akan melakukan pembelian secara teratur setiap periode pengiriman.\n",
        "\n",
        "*   Meningkatkan Keterlibatan Pelanggan: Program “Fresh Picks” memberikan peluang bagi Amazon UK Grocery untuk terlibat lebih aktif dengan pelanggan mereka melalui komunikasi reguler tentang pilihan produk, rekomendasi, dan penawaran khusus untuk pelanggan berlangganan.\n",
        "*   Mengembangkan Citra Merek yang Sehat: Dengan fokus pada produk-produk segar dan kualitas, Amazon UK Grocery dapat memperkuat citra merek mereka sebagai destinasi belanja yang dapat dipercaya untuk kebutuhan makanan segar dan sehat.\n",
        "\n",
        "*   Meningkatkan Nilai Pesanan Rata-rata: Dengan menyediakan opsi berlangganan untuk produk-produk segar, Amazon UK Grocery dapat mendorong pelanggan untuk menambahkan produk tambahan ke pesanan mereka, meningkatkan nilai pesanan rata-rata dan pendapatan keseluruhan.\n",
        "\n",
        "\n",
        "\n",
        "\n",
        "\n",
        "\n"
      ],
      "metadata": {
        "id": "umZD2jQwSO3F"
      }
    },
    {
      "cell_type": "markdown",
      "source": [
        "**Assess Situation**\n",
        "\n",
        "\n",
        "*   Keberlanjutan: Menganalisis apakah model bisnis berlangganan ini dapat berkelanjutan dalam jangka panjang dan bagaimana Amazon UK Grocery dapat terus memperbaiki dan menyesuaikan program ini sesuai dengan umpan balik pelanggan dan perubahan pasar.\n",
        "\n",
        "*   Kelayakan Finansial: Menghitung biaya operasional dan potensi pendapatan dari program “Fresh Picks” untuk memastikan kelayakan finansial jangka panjang dari program ini.\n",
        "\n",
        "*   Kesiapan Pasar: Menilai apakah konsumen di pasar Inggris sudah siap untuk menerima dan menggunakan layanan berlangganan untuk produk-produk segar, serta memahami tingkat kesiapan mereka dalam mengadopsi model bisnis ini.\n",
        "*   Infrastruktur Logistik: Mengidentifikasi apakah Amazon UK Grocery memiliki infrastruktur logistik yang cukup untuk mendukung pengiriman produk segar secara teratur ke pelanggan dengan tepat waktu dan dalam kondisi yang baik.\n",
        "\n",
        "\n",
        "*   Persaingan: Menganalisis pesaing di pasar makanan segar dan berlangganan untuk memahami bagaimana layanan “Fresh Picks” akan berbeda dan bersaing dalam lanskap yang ada.\n",
        "\n",
        "\n",
        "*   Permintaan Pasar: Melakukan analisis pasar untuk memahami permintaan konsumen terhadap produk-produk segar dan minat mereka dalam berlangganan layanan pengiriman secara teratur.\n",
        "\n"
      ],
      "metadata": {
        "id": "q41vQGy_SVIC"
      }
    },
    {
      "cell_type": "markdown",
      "source": [
        "**Data Mining Goals**\n",
        "\n",
        "\n",
        "*   Retensi Pelanggan: Menggunakan data mining untuk mengidentifikasi faktor-faktor yang mempengaruhi retensi pelanggan dan mengembangkan strategi untuk mempertahankan pelanggan yang lebih lama di program “Fresh Picks”.\n",
        "\n",
        "*   Personalisasi Rekomendasi: Menerapkan algoritma rekomendasi berbasis data untuk menawarkan produk-produk yang paling sesuai dengan preferensi dan kebiasaan belanja masing-masing pelanggan berlangganan.\n",
        "\n",
        "*   Segmentasi Pelanggan: Menggunakan teknik data mining untuk mengidentifikasi dan memahami profil pelanggan yang berlangganan “Fresh Picks”, termasuk preferensi belanja, pola pembelian, dan kebiasaan konsumsi\n",
        "*   Prediksi Permintaan: Menganalisis data historis dan tren pembelian untuk memprediksi permintaan produk segar di masa mendatang, membantu Amazon UK Grocery untuk mengatur persediaan dengan lebih efisien dan menghindari kelebihan atau kekurangan stok.\n",
        "\n",
        "\n",
        "*   Analisis Kepuasan Pelanggan: Menggunakan data feedback dan ulasan pelanggan untuk menganalisis tingkat kepuasan dan loyalitas pelanggan terhadap program “Fresh Picks”, serta mengidentifikasi area-area untuk perbaikan atau inovasi lebih lanjut.\n",
        "\n",
        "\n",
        "*   Optimalisasi Operasional: Menggunakan analisis data untuk mengidentifikasi area-area di dalam operasi pengiriman, penyimpanan, dan manajemen persediaan yang dapat dioptimalkan untuk meningkatkan efisiensi dan mengurangi biaya.\n",
        "\n"
      ],
      "metadata": {
        "id": "88vZszCKSYdF"
      }
    },
    {
      "cell_type": "markdown",
      "source": [
        "**project Plan**\n",
        "\n",
        "\n",
        "*   Perencanaan: Tentukan tujuan program, bentuk tim proyek, alokasikan sumber daya, dan lakukan penelitian pasar.\n",
        "\n",
        "*   Persiapan: Identifikasi produk, jalin kemitraan dengan pemasok, rancang platform, dan evaluasi infrastruktur logistik.\n",
        "\n",
        "*   Implementasi: Bangun platform, siapkan kampanye pemasaran, latih staf, dan persiapkan prosedur pengiriman.\n",
        "*   Peluncuran: Meluncurkan program kepada pelanggan, pantau kinerja, dan tanggap terhadap umpan balik.\n",
        "\n",
        "\n",
        "*   Pemeliharaan dan Pengembangan: Evaluasi kinerja, lakukan inovasi produk dan layanan, dan monitor tren pasar.\n",
        "\n",
        "\n"
      ],
      "metadata": {
        "id": "JiNx7AYrScmp"
      }
    }
  ]
}